{
  "nbformat": 4,
  "nbformat_minor": 0,
  "metadata": {
    "kernelspec": {
      "display_name": "Python 3",
      "language": "python",
      "name": "python3"
    },
    "language_info": {
      "codemirror_mode": {
        "name": "ipython",
        "version": 3
      },
      "file_extension": ".py",
      "mimetype": "text/x-python",
      "name": "python",
      "nbconvert_exporter": "python",
      "pygments_lexer": "ipython3",
      "version": "3.7.4"
    },
    "colab": {
      "name": "Part2_tfidf.ipynb",
      "provenance": []
    }
  },
  "cells": [
    {
      "cell_type": "code",
      "metadata": {
        "id": "erc8lzGRgFwU",
        "colab_type": "code",
        "outputId": "807ed551-674b-4dcf-8dab-b899dbe9a209",
        "colab": {
          "base_uri": "https://localhost:8080/",
          "height": 401
        }
      },
      "source": [
        "# import os\n",
        "\n",
        "# # Install java\n",
        "# ! apt-get install -y openjdk-8-jdk-headless -qq > /dev/null\n",
        "# os.environ[\"JAVA_HOME\"] = \"/usr/lib/jvm/java-8-openjdk-amd64\"\n",
        "# os.environ[\"PATH\"] = os.environ[\"JAVA_HOME\"] + \"/bin:\" + os.environ[\"PATH\"]\n",
        "# ! java -version\n",
        "\n",
        "# Install pyspark\n",
        "! pip3 install --ignore-installed pyspark==2.4.4\n",
        "\n",
        "# Install Spark NLP\n",
        "! pip3 install --ignore-installed spark-nlp==2.4.5"
      ],
      "execution_count": 0,
      "outputs": [
        {
          "output_type": "stream",
          "text": [
            "openjdk version \"1.8.0_252\"\n",
            "OpenJDK Runtime Environment (build 1.8.0_252-8u252-b09-1~18.04-b09)\n",
            "OpenJDK 64-Bit Server VM (build 25.252-b09, mixed mode)\n",
            "Collecting pyspark==2.4.4\n",
            "\u001b[?25l  Downloading https://files.pythonhosted.org/packages/87/21/f05c186f4ddb01d15d0ddc36ef4b7e3cedbeb6412274a41f26b55a650ee5/pyspark-2.4.4.tar.gz (215.7MB)\n",
            "\u001b[K     |████████████████████████████████| 215.7MB 56kB/s \n",
            "\u001b[?25hCollecting py4j==0.10.7\n",
            "\u001b[?25l  Downloading https://files.pythonhosted.org/packages/e3/53/c737818eb9a7dc32a7cd4f1396e787bd94200c3997c72c1dbe028587bd76/py4j-0.10.7-py2.py3-none-any.whl (197kB)\n",
            "\u001b[K     |████████████████████████████████| 204kB 47.0MB/s \n",
            "\u001b[?25hBuilding wheels for collected packages: pyspark\n",
            "  Building wheel for pyspark (setup.py) ... \u001b[?25l\u001b[?25hdone\n",
            "  Created wheel for pyspark: filename=pyspark-2.4.4-py2.py3-none-any.whl size=216130388 sha256=b7a8507d64fa3a6132e6c7bca775fbaad00fde383b447685d2ccae5490b6705c\n",
            "  Stored in directory: /root/.cache/pip/wheels/ab/09/4d/0d184230058e654eb1b04467dbc1292f00eaa186544604b471\n",
            "Successfully built pyspark\n",
            "Installing collected packages: py4j, pyspark\n",
            "Successfully installed py4j-0.10.7 pyspark-2.4.4\n",
            "Collecting spark-nlp==2.4.5\n",
            "\u001b[?25l  Downloading https://files.pythonhosted.org/packages/31/46/5c5a2bda407f693126386da5378f132e5e163fa6dfa46109548270348786/spark_nlp-2.4.5-py2.py3-none-any.whl (110kB)\n",
            "\u001b[K     |████████████████████████████████| 112kB 8.5MB/s \n",
            "\u001b[?25hInstalling collected packages: spark-nlp\n",
            "Successfully installed spark-nlp-2.4.5\n"
          ],
          "name": "stdout"
        }
      ]
    },
    {
      "cell_type": "code",
      "metadata": {
        "id": "J3oBm6FHghRc",
        "colab_type": "code",
        "outputId": "5f42a7c8-3ee9-4df5-a20f-aa1974654ed8",
        "colab": {
          "base_uri": "https://localhost:8080/",
          "height": 69
        }
      },
      "source": [
        "import findspark\n",
        "findspark.init('/home/cse587/spark-2.4.0-bin-hadoop2.7')\n",
        "\n",
        "import sparknlp\n",
        "spark = sparknlp.start()\n",
        "\n",
        "print(\"Spark NLP version\")\n",
        "sparknlp.version()\n",
        "print(\"Apache Spark version\")\n",
        "spark.version"
      ],
      "execution_count": 0,
      "outputs": [
        {
          "output_type": "stream",
          "text": [
            "Spark NLP version\n",
            "Apache Spark version\n"
          ],
          "name": "stdout"
        },
        {
          "output_type": "execute_result",
          "data": {
            "text/plain": [
              "'2.4.4'"
            ]
          },
          "metadata": {
            "tags": []
          },
          "execution_count": 2
        }
      ]
    },
    {
      "cell_type": "code",
      "metadata": {
        "id": "rOeK-G96gdyC",
        "colab_type": "code",
        "colab": {}
      },
      "source": [
        "from pyspark import SparkContext\n",
        "sc = SparkContext.getOrCreate()"
      ],
      "execution_count": 0,
      "outputs": []
    },
    {
      "cell_type": "code",
      "metadata": {
        "id": "ZoJnGQkvgFwc",
        "colab_type": "code",
        "colab": {}
      },
      "source": [
        "from pyspark.sql import SQLContext\n",
        "sqlContext = SQLContext(sc)"
      ],
      "execution_count": 0,
      "outputs": []
    },
    {
      "cell_type": "code",
      "metadata": {
        "id": "Cy9qzSC_gFwh",
        "colab_type": "code",
        "colab": {}
      },
      "source": [
        "from pyspark.sql.types import IntegerType,ArrayType, StringType\n",
        "from pyspark.sql.functions import udf\n",
        "from pyspark.sql.functions import col\n",
        "from copy import deepcopy\n",
        "\n",
        "import ast"
      ],
      "execution_count": 0,
      "outputs": []
    },
    {
      "cell_type": "code",
      "metadata": {
        "id": "lMWcOBYYgFwl",
        "colab_type": "code",
        "colab": {}
      },
      "source": [
        "file = sqlContext.read.csv('train.csv',header=True)\n",
        "\n",
        "documents = sc.textFile(\"train.csv\").map(lambda line: line.split(\",\"))"
      ],
      "execution_count": 0,
      "outputs": []
    },
    {
      "cell_type": "code",
      "metadata": {
        "id": "pbQuxBKegFwq",
        "colab_type": "code",
        "colab": {}
      },
      "source": [
        "from pyspark.ml.feature import RegexTokenizer, StopWordsRemover,HashingTF, IDF\n",
        "from pyspark.ml import Pipeline\n",
        "\n",
        "preProcStages = []\n",
        "\n",
        "regexTokenizer = RegexTokenizer(gaps=False, pattern='\\w+', inputCol='plot', outputCol='token')\n",
        "stopWordsRemover = StopWordsRemover(inputCol='token', outputCol='clean')\n",
        "hashingTF = HashingTF(inputCol=\"clean\", outputCol=\"rawFeatures\", numFeatures=10000)\n",
        "idf = IDF(inputCol=\"rawFeatures\", outputCol=\"features\", minDocFreq=5)\n",
        "\n",
        "preProcStages += [regexTokenizer, stopWordsRemover,hashingTF,idf]\n",
        "  \n",
        "pipeline = Pipeline(stages=preProcStages)\n",
        "\n",
        "model = pipeline.fit(file)\n",
        "data_set = model.transform(file)"
      ],
      "execution_count": 0,
      "outputs": []
    },
    {
      "cell_type": "code",
      "metadata": {
        "id": "7kIluBPagFwv",
        "colab_type": "code",
        "colab": {}
      },
      "source": [
        "import pandas as pd\n",
        "\n",
        "d = pd.read_csv('mapping.csv',index_col=0)\n",
        "df = d.to_dict()['0']\n",
        "\n",
        "dic = dict((v,k) for k,v in df.items())\n",
        "encode = [0] * len(dic.keys())"
      ],
      "execution_count": 0,
      "outputs": []
    },
    {
      "cell_type": "code",
      "metadata": {
        "id": "wVl1XpfPgFwy",
        "colab_type": "code",
        "outputId": "b37f9ea2-3ffd-4385-f1ae-8d07da7cff99",
        "colab": {
          "base_uri": "https://localhost:8080/",
          "height": 55
        }
      },
      "source": [
        "#for columns\n",
        "from ast import literal_eval\n",
        "from copy import deepcopy\n",
        "\n",
        "def kHotEncode(x):\n",
        "    global dic\n",
        "    global encode\n",
        "\n",
        "    key = deepcopy(encode)\n",
        "    try:\n",
        "        labs = list(literal_eval(x))\n",
        "        res = []\n",
        "        for lab in labs:\n",
        "            if lab in dic.keys(): key[dic[lab]] = 1\n",
        "        return key\n",
        "    except:\n",
        "        return [0] * 20\n",
        "\n",
        "udf_encode = udf(kHotEncode, ArrayType(IntegerType()))\n",
        "\n",
        "data_set = data_set.withColumn(\"label\", udf_encode(col(\"genre\")))\n",
        "data_set.head(1)\n"
      ],
      "execution_count": 0,
      "outputs": [
        {
          "output_type": "execute_result",
          "data": {
            "text/plain": [
              "[Row(movie_id='23890098', movie_name='Taxi Blues', plot=\"Shlykov, a hard-working taxi driver and Lyosha, a saxophonist, develop a bizarre love-hate relationship, and despite their prejudices, realize they aren't so different after all.\", genre=\"['World cinema', 'Drama']\", token=['shlykov', 'a', 'hard', 'working', 'taxi', 'driver', 'and', 'lyosha', 'a', 'saxophonist', 'develop', 'a', 'bizarre', 'love', 'hate', 'relationship', 'and', 'despite', 'their', 'prejudices', 'realize', 'they', 'aren', 't', 'so', 'different', 'after', 'all'], clean=['shlykov', 'hard', 'working', 'taxi', 'driver', 'lyosha', 'saxophonist', 'develop', 'bizarre', 'love', 'hate', 'relationship', 'despite', 'prejudices', 'realize', 'aren', 'different'], rawFeatures=SparseVector(10000, {135: 1.0, 719: 1.0, 1089: 1.0, 1368: 1.0, 2069: 1.0, 2135: 1.0, 2731: 1.0, 2780: 1.0, 2799: 1.0, 4260: 1.0, 5125: 1.0, 5545: 1.0, 6240: 1.0, 6639: 1.0, 7671: 1.0, 8478: 1.0, 8613: 1.0}), features=SparseVector(10000, {135: 3.6025, 719: 5.4327, 1089: 3.1868, 1368: 2.7062, 2069: 4.8441, 2135: 5.3281, 2731: 4.1327, 2780: 6.32, 2799: 4.9701, 4260: 2.2106, 5125: 3.57, 5545: 6.6077, 6240: 1.6249, 6639: 4.6152, 7671: 3.1978, 8478: 2.7693, 8613: 6.338}), label=[1, 0, 0, 0, 0, 1, 0, 0, 0, 0, 0, 0, 0, 0, 0, 0, 0, 0, 0, 0])]"
            ]
          },
          "metadata": {
            "tags": []
          },
          "execution_count": 56
        }
      ]
    },
    {
      "cell_type": "code",
      "metadata": {
        "id": "2CvKM0NQgFxA",
        "colab_type": "code",
        "outputId": "de368646-bdce-4541-b7af-f236eb9cb62b",
        "colab": {
          "base_uri": "https://localhost:8080/",
          "height": 488
        }
      },
      "source": [
        "\n",
        "data_set.show()"
      ],
      "execution_count": 0,
      "outputs": [
        {
          "output_type": "stream",
          "text": [
            "+--------+--------------------+--------------------+--------------------+--------------------+--------------------+--------------------+--------------------+--------------------+\n",
            "|movie_id|          movie_name|                plot|               genre|               token|               clean|         rawFeatures|            features|               label|\n",
            "+--------+--------------------+--------------------+--------------------+--------------------+--------------------+--------------------+--------------------+--------------------+\n",
            "|23890098|          Taxi Blues|Shlykov, a hard-w...|['World cinema', ...|[shlykov, a, hard...|[shlykov, hard, w...|(10000,[135,719,1...|(10000,[135,719,1...|[1, 0, 0, 0, 0, 1...|\n",
            "|31186339|    The Hunger Games|\"The nation of Pa...| Peeta unexpected...|[the, nation, of,...|[nation, panem, c...|(10000,[47,100,42...|(10000,[47,100,42...|[0, 0, 0, 0, 0, 0...|\n",
            "|20663735|          Narasimham|Poovalli Induchoo...|['Musical', 'Acti...|[poovalli, induch...|[poovalli, induch...|(10000,[52,74,104...|(10000,[52,74,104...|[1, 0, 0, 0, 1, 0...|\n",
            "| 2231378|  The Lemon Drop Kid|\"The Lemon Drop K...| as does the mone...|[the, lemon, drop...|[lemon, drop, kid...|(10000,[77,360,67...|(10000,[77,360,67...|[0, 0, 0, 0, 0, 0...|\n",
            "|  595909|   A Cry in the Dark|\"Seventh-day Adve...| the public is qu...|[seventh, day, ad...|[seventh, day, ad...|(10000,[15,91,157...|(10000,[15,91,157...|[0, 0, 0, 0, 0, 0...|\n",
            "| 5272176|            End Game|The president is ...|['Action/Adventur...|[the, president, ...|[president, way, ...|(10000,[52,158,20...|(10000,[52,158,20...|[1, 0, 0, 1, 1, 0...|\n",
            "| 1952976|          Dark Water|\"{{plot}} The fil...| which is just a ...|[plot, the, film,...|[plot, film, open...|(10000,[140,195,1...|(10000,[140,195,1...|[0, 0, 0, 0, 0, 0...|\n",
            "|24225279|                Sing|The story begins ...|           ['Drama']|[the, story, begi...|[story, begins, h...|(10000,[17,24,76,...|(10000,[17,24,76,...|[1, 0, 0, 0, 0, 0...|\n",
            "| 2462689|       Meet John Doe|\"Infuriated at be...| the newspaper ed...|[infuriated, at, ...|[infuriated, told...|(10000,[456,510,2...|(10000,[456,510,2...|[0, 0, 0, 0, 0, 0...|\n",
            "|20532852|Destination Meatball|\"A line of people...| he sneaks in and...|[a, line, of, peo...|[line, people, dr...|(10000,[585,964,1...|(10000,[585,964,1...|[0, 0, 0, 0, 0, 0...|\n",
            "|15401493|    Husband for Hire|Lola  attempts to...|          ['Comedy']|[lola, attempts, ...|[lola, attempts, ...|(10000,[76,100,15...|(10000,[76,100,15...|[0, 1, 0, 0, 0, 0...|\n",
            "|18188932|         Up and Down|Milan and Goran a...|['Crime Fiction',...|[milan, and, gora...|[milan, goran, tw...|(10000,[76,390,46...|(10000,[76,390,46...|[1, 1, 0, 0, 0, 1...|\n",
            "| 2940516|Ghost In The Noon...|Bumbling pirate c...|          ['Comedy']|[bumbling, pirate...|[bumbling, pirate...|(10000,[50,410,61...|(10000,[50,410,61...|[0, 1, 0, 0, 0, 0...|\n",
            "| 1480747|       House Party 2|\"{{plot}} Followi...| causing a rift b...|[plot, following,...|[plot, following,...|(10000,[104,523,6...|(10000,[104,523,6...|[0, 0, 0, 0, 0, 0...|\n",
            "|24448645|Forest of the Dam...|Despite Lucy's re...|          ['Horror']|[despite, lucy, s...|[despite, lucy, r...|(10000,[87,141,81...|(10000,[87,141,81...|[0, 0, 0, 0, 0, 0...|\n",
            "|15072401|Charlie Chan's Se...|Alan Colby, heir ...|['Crime Fiction',...|[alan, colby, hei...|[alan, colby, hei...|(10000,[213,493,7...|(10000,[213,493,7...|[0, 0, 0, 1, 0, 0...|\n",
            "| 4018288|     The Biggest Fan|\"Debbie's favorit...|\"\" who thinks she...|[debbie, s, favor...|[debbie, favorite...|(10000,[524,662,9...|(10000,[524,662,9...|[0, 0, 0, 0, 0, 0...|\n",
            "| 4596602|      Ashes to Ashes|Ashes to Ashes is...|['Crime Fiction',...|[ashes, to, ashes...|[ashes, ashes, se...|(10000,[164,277,3...|(10000,[164,277,3...|[0, 0, 1, 1, 1, 0...|\n",
            "|15224586|        Green Dragon|The film follows ...|  ['Indie', 'Drama']|[the, film, follo...|[film, follows, e...|(10000,[273,306,3...|(10000,[273,306,3...|[1, 0, 0, 0, 0, 0...|\n",
            "|15585766|  The Rats of Tobruk|Three friends are...|           ['Drama']|[three, friends, ...|[three, friends, ...|(10000,[87,207,21...|(10000,[87,207,21...|[1, 0, 0, 0, 0, 0...|\n",
            "+--------+--------------------+--------------------+--------------------+--------------------+--------------------+--------------------+--------------------+--------------------+\n",
            "only showing top 20 rows\n",
            "\n"
          ],
          "name": "stdout"
        }
      ]
    },
    {
      "cell_type": "code",
      "metadata": {
        "id": "LHRmSwdIgFxN",
        "colab_type": "code",
        "colab": {}
      },
      "source": [
        "\n",
        "labs = list(dic.keys())\n",
        "\n",
        "cols = data_set.columns\n",
        "labels = list(dic.keys())\n",
        "\n",
        "data_set = data_set.rdd.map(lambda row: ([row[c] for c in cols]+row['label'])).toDF(cols+labels)"
      ],
      "execution_count": 0,
      "outputs": []
    },
    {
      "cell_type": "code",
      "metadata": {
        "id": "MI1NMia0gFxR",
        "colab_type": "code",
        "outputId": "7191e63b-13b4-4665-ae03-08954164347f",
        "colab": {
          "base_uri": "https://localhost:8080/",
          "height": 488
        }
      },
      "source": [
        "data_set.show()"
      ],
      "execution_count": 0,
      "outputs": [
        {
          "output_type": "stream",
          "text": [
            "+--------+--------------------+--------------------+--------------------+--------------------+--------------------+--------------------+--------------------+--------------------+-----+------+------------+--------+------+------------+-------------+------+---------------+-----+----------------+---------+-----------+----------+--------------+---------+-------+---------------+-------+---------------+\n",
            "|movie_id|          movie_name|                plot|               genre|               token|               clean|         rawFeatures|            features|               label|Drama|Comedy|Romance Film|Thriller|Action|World cinema|Crime Fiction|Horror|Black-and-white|Indie|Action/Adventure|Adventure|Family Film|Short Film|Romantic drama|Animation|Musical|Science Fiction|Mystery|Romantic comedy|\n",
            "+--------+--------------------+--------------------+--------------------+--------------------+--------------------+--------------------+--------------------+--------------------+-----+------+------------+--------+------+------------+-------------+------+---------------+-----+----------------+---------+-----------+----------+--------------+---------+-------+---------------+-------+---------------+\n",
            "|23890098|          Taxi Blues|Shlykov, a hard-w...|['World cinema', ...|[shlykov, a, hard...|[shlykov, hard, w...|(10000,[135,719,1...|(10000,[135,719,1...|[1, 0, 0, 0, 0, 1...|    1|     0|           0|       0|     0|           1|            0|     0|              0|    0|               0|        0|          0|         0|             0|        0|      0|              0|      0|              0|\n",
            "|31186339|    The Hunger Games|\"The nation of Pa...| Peeta unexpected...|[the, nation, of,...|[nation, panem, c...|(10000,[47,100,42...|(10000,[47,100,42...|[0, 0, 0, 0, 0, 0...|    0|     0|           0|       0|     0|           0|            0|     0|              0|    0|               0|        0|          0|         0|             0|        0|      0|              0|      0|              0|\n",
            "|20663735|          Narasimham|Poovalli Induchoo...|['Musical', 'Acti...|[poovalli, induch...|[poovalli, induch...|(10000,[52,74,104...|(10000,[52,74,104...|[1, 0, 0, 0, 1, 0...|    1|     0|           0|       0|     1|           0|            0|     0|              0|    0|               0|        0|          0|         0|             0|        0|      1|              0|      0|              0|\n",
            "| 2231378|  The Lemon Drop Kid|\"The Lemon Drop K...| as does the mone...|[the, lemon, drop...|[lemon, drop, kid...|(10000,[77,360,67...|(10000,[77,360,67...|[0, 0, 0, 0, 0, 0...|    0|     0|           0|       0|     0|           0|            0|     0|              0|    0|               0|        0|          0|         0|             0|        0|      0|              0|      0|              0|\n",
            "|  595909|   A Cry in the Dark|\"Seventh-day Adve...| the public is qu...|[seventh, day, ad...|[seventh, day, ad...|(10000,[15,91,157...|(10000,[15,91,157...|[0, 0, 0, 0, 0, 0...|    0|     0|           0|       0|     0|           0|            0|     0|              0|    0|               0|        0|          0|         0|             0|        0|      0|              0|      0|              0|\n",
            "| 5272176|            End Game|The president is ...|['Action/Adventur...|[the, president, ...|[president, way, ...|(10000,[52,158,20...|(10000,[52,158,20...|[1, 0, 0, 1, 1, 0...|    1|     0|           0|       1|     1|           0|            0|     0|              0|    0|               1|        0|          0|         0|             0|        0|      0|              0|      0|              0|\n",
            "| 1952976|          Dark Water|\"{{plot}} The fil...| which is just a ...|[plot, the, film,...|[plot, film, open...|(10000,[140,195,1...|(10000,[140,195,1...|[0, 0, 0, 0, 0, 0...|    0|     0|           0|       0|     0|           0|            0|     0|              0|    0|               0|        0|          0|         0|             0|        0|      0|              0|      0|              0|\n",
            "|24225279|                Sing|The story begins ...|           ['Drama']|[the, story, begi...|[story, begins, h...|(10000,[17,24,76,...|(10000,[17,24,76,...|[1, 0, 0, 0, 0, 0...|    1|     0|           0|       0|     0|           0|            0|     0|              0|    0|               0|        0|          0|         0|             0|        0|      0|              0|      0|              0|\n",
            "| 2462689|       Meet John Doe|\"Infuriated at be...| the newspaper ed...|[infuriated, at, ...|[infuriated, told...|(10000,[456,510,2...|(10000,[456,510,2...|[0, 0, 0, 0, 0, 0...|    0|     0|           0|       0|     0|           0|            0|     0|              0|    0|               0|        0|          0|         0|             0|        0|      0|              0|      0|              0|\n",
            "|20532852|Destination Meatball|\"A line of people...| he sneaks in and...|[a, line, of, peo...|[line, people, dr...|(10000,[585,964,1...|(10000,[585,964,1...|[0, 0, 0, 0, 0, 0...|    0|     0|           0|       0|     0|           0|            0|     0|              0|    0|               0|        0|          0|         0|             0|        0|      0|              0|      0|              0|\n",
            "|15401493|    Husband for Hire|Lola  attempts to...|          ['Comedy']|[lola, attempts, ...|[lola, attempts, ...|(10000,[76,100,15...|(10000,[76,100,15...|[0, 1, 0, 0, 0, 0...|    0|     1|           0|       0|     0|           0|            0|     0|              0|    0|               0|        0|          0|         0|             0|        0|      0|              0|      0|              0|\n",
            "|18188932|         Up and Down|Milan and Goran a...|['Crime Fiction',...|[milan, and, gora...|[milan, goran, tw...|(10000,[76,390,46...|(10000,[76,390,46...|[1, 1, 0, 0, 0, 1...|    1|     1|           0|       0|     0|           1|            1|     0|              0|    0|               0|        0|          0|         0|             0|        0|      0|              0|      0|              0|\n",
            "| 2940516|Ghost In The Noon...|Bumbling pirate c...|          ['Comedy']|[bumbling, pirate...|[bumbling, pirate...|(10000,[50,410,61...|(10000,[50,410,61...|[0, 1, 0, 0, 0, 0...|    0|     1|           0|       0|     0|           0|            0|     0|              0|    0|               0|        0|          0|         0|             0|        0|      0|              0|      0|              0|\n",
            "| 1480747|       House Party 2|\"{{plot}} Followi...| causing a rift b...|[plot, following,...|[plot, following,...|(10000,[104,523,6...|(10000,[104,523,6...|[0, 0, 0, 0, 0, 0...|    0|     0|           0|       0|     0|           0|            0|     0|              0|    0|               0|        0|          0|         0|             0|        0|      0|              0|      0|              0|\n",
            "|24448645|Forest of the Dam...|Despite Lucy's re...|          ['Horror']|[despite, lucy, s...|[despite, lucy, r...|(10000,[87,141,81...|(10000,[87,141,81...|[0, 0, 0, 0, 0, 0...|    0|     0|           0|       0|     0|           0|            0|     1|              0|    0|               0|        0|          0|         0|             0|        0|      0|              0|      0|              0|\n",
            "|15072401|Charlie Chan's Se...|Alan Colby, heir ...|['Crime Fiction',...|[alan, colby, hei...|[alan, colby, hei...|(10000,[213,493,7...|(10000,[213,493,7...|[0, 0, 0, 1, 0, 0...|    0|     0|           0|       1|     0|           0|            1|     1|              0|    0|               0|        0|          0|         0|             0|        0|      0|              0|      1|              0|\n",
            "| 4018288|     The Biggest Fan|\"Debbie's favorit...|\"\" who thinks she...|[debbie, s, favor...|[debbie, favorite...|(10000,[524,662,9...|(10000,[524,662,9...|[0, 0, 0, 0, 0, 0...|    0|     0|           0|       0|     0|           0|            0|     0|              0|    0|               0|        0|          0|         0|             0|        0|      0|              0|      0|              0|\n",
            "| 4596602|      Ashes to Ashes|Ashes to Ashes is...|['Crime Fiction',...|[ashes, to, ashes...|[ashes, ashes, se...|(10000,[164,277,3...|(10000,[164,277,3...|[0, 0, 1, 1, 1, 0...|    0|     0|           1|       1|     1|           0|            1|     0|              0|    1|               0|        0|          0|         0|             0|        0|      0|              0|      0|              0|\n",
            "|15224586|        Green Dragon|The film follows ...|  ['Indie', 'Drama']|[the, film, follo...|[film, follows, e...|(10000,[273,306,3...|(10000,[273,306,3...|[1, 0, 0, 0, 0, 0...|    1|     0|           0|       0|     0|           0|            0|     0|              0|    1|               0|        0|          0|         0|             0|        0|      0|              0|      0|              0|\n",
            "|15585766|  The Rats of Tobruk|Three friends are...|           ['Drama']|[three, friends, ...|[three, friends, ...|(10000,[87,207,21...|(10000,[87,207,21...|[1, 0, 0, 0, 0, 0...|    1|     0|           0|       0|     0|           0|            0|     0|              0|    0|               0|        0|          0|         0|             0|        0|      0|              0|      0|              0|\n",
            "+--------+--------------------+--------------------+--------------------+--------------------+--------------------+--------------------+--------------------+--------------------+-----+------+------------+--------+------+------------+-------------+------+---------------+-----+----------------+---------+-----------+----------+--------------+---------+-------+---------------+-------+---------------+\n",
            "only showing top 20 rows\n",
            "\n"
          ],
          "name": "stdout"
        }
      ]
    },
    {
      "cell_type": "code",
      "metadata": {
        "id": "W35CZN1QgFxW",
        "colab_type": "code",
        "colab": {}
      },
      "source": [
        "trainSet,testSet = data_set.randomSplit([0.7, 0.3], seed = 100)"
      ],
      "execution_count": 0,
      "outputs": []
    },
    {
      "cell_type": "code",
      "metadata": {
        "id": "t4uVuQpQMzA0",
        "colab_type": "code",
        "colab": {}
      },
      "source": [
        "from pyspark.ml.classification import LogisticRegressionModel\n",
        "load_models = []\n",
        "try:\n",
        "  for i in range(20):\n",
        "    path = \"tf_idf\" + \"/\" +str(i)\n",
        "    load_models.append(LogisticRegressionModel.load(path))\n",
        "except: \n",
        "  pass"
      ],
      "execution_count": 0,
      "outputs": []
    },
    {
      "cell_type": "code",
      "metadata": {
        "id": "rrvmlaFaMzxK",
        "colab_type": "code",
        "outputId": "7aa31445-573c-416d-a0f7-a72d1432cdab",
        "colab": {
          "base_uri": "https://localhost:8080/",
          "height": 364
        }
      },
      "source": [
        "load_models"
      ],
      "execution_count": 0,
      "outputs": [
        {
          "output_type": "execute_result",
          "data": {
            "text/plain": [
              "[LogisticRegressionModel: uid = LogisticRegression_c9a2b790a322, numClasses = 2, numFeatures = 10000,\n",
              " LogisticRegressionModel: uid = LogisticRegression_87b7bfc05e90, numClasses = 2, numFeatures = 10000,\n",
              " LogisticRegressionModel: uid = LogisticRegression_ac4514b15bfa, numClasses = 2, numFeatures = 10000,\n",
              " LogisticRegressionModel: uid = LogisticRegression_323ce43508c5, numClasses = 2, numFeatures = 10000,\n",
              " LogisticRegressionModel: uid = LogisticRegression_00e595b82d38, numClasses = 2, numFeatures = 10000,\n",
              " LogisticRegressionModel: uid = LogisticRegression_25d6312daa81, numClasses = 2, numFeatures = 10000,\n",
              " LogisticRegressionModel: uid = LogisticRegression_0f4bf1399819, numClasses = 2, numFeatures = 10000,\n",
              " LogisticRegressionModel: uid = LogisticRegression_a96f316c41ca, numClasses = 2, numFeatures = 10000,\n",
              " LogisticRegressionModel: uid = LogisticRegression_c04a9bdbfc53, numClasses = 2, numFeatures = 10000,\n",
              " LogisticRegressionModel: uid = LogisticRegression_c97b9f81b0c3, numClasses = 2, numFeatures = 10000,\n",
              " LogisticRegressionModel: uid = LogisticRegression_1a4afc519f10, numClasses = 2, numFeatures = 10000,\n",
              " LogisticRegressionModel: uid = LogisticRegression_7ae00dfae675, numClasses = 2, numFeatures = 10000,\n",
              " LogisticRegressionModel: uid = LogisticRegression_91ad7c4de9fd, numClasses = 2, numFeatures = 10000,\n",
              " LogisticRegressionModel: uid = LogisticRegression_bf65849a3eaf, numClasses = 2, numFeatures = 10000,\n",
              " LogisticRegressionModel: uid = LogisticRegression_dcce76279417, numClasses = 2, numFeatures = 10000,\n",
              " LogisticRegressionModel: uid = LogisticRegression_558283f22b8d, numClasses = 2, numFeatures = 10000,\n",
              " LogisticRegressionModel: uid = LogisticRegression_39f64fb3aa55, numClasses = 2, numFeatures = 10000,\n",
              " LogisticRegressionModel: uid = LogisticRegression_c298c72b5fa3, numClasses = 2, numFeatures = 10000,\n",
              " LogisticRegressionModel: uid = LogisticRegression_4c730935603e, numClasses = 2, numFeatures = 10000,\n",
              " LogisticRegressionModel: uid = LogisticRegression_9e031c4520c6, numClasses = 2, numFeatures = 10000]"
            ]
          },
          "metadata": {
            "tags": []
          },
          "execution_count": 61
        }
      ]
    },
    {
      "cell_type": "code",
      "metadata": {
        "id": "NQzYWDwogFxZ",
        "colab_type": "code",
        "colab": {}
      },
      "source": [
        "from pyspark.ml.classification import LogisticRegression\n",
        "import time\n",
        "\n",
        "labels = list(dic.keys())\n",
        "\n",
        "models = []\n",
        "\n",
        "if len(load_models)!=20:\n",
        "  start = time.time()\n",
        "  for label in labels:\n",
        "      lr = LogisticRegression(labelCol=label,maxIter=20, regParam=0.3, elasticNetParam=0)\n",
        "      lrModel = lr.fit(data_set)\n",
        "      models.append(lrModel)\n",
        "      end = time.time()\n",
        "  for index,mdl in enumerate(models):\n",
        "      mdl.save('/content/tf_idf/'+str(index)+\"/\")\n",
        "else:\n",
        "  models=load_models\n",
        "end = time.time()"
      ],
      "execution_count": 0,
      "outputs": []
    },
    {
      "cell_type": "code",
      "metadata": {
        "id": "QYq6mypjgFxd",
        "colab_type": "code",
        "outputId": "93bb26de-1112-4cb8-f622-06184a8d5374",
        "colab": {
          "base_uri": "https://localhost:8080/",
          "height": 35
        }
      },
      "source": [
        "end-start"
      ],
      "execution_count": 0,
      "outputs": [
        {
          "output_type": "execute_result",
          "data": {
            "text/plain": [
              "4826.2507700920105"
            ]
          },
          "metadata": {
            "tags": []
          },
          "execution_count": 64
        }
      ]
    },
    {
      "cell_type": "code",
      "metadata": {
        "id": "GSahxLyTgFxi",
        "colab_type": "code",
        "colab": {}
      },
      "source": [
        "# for index,mdl in enumerate(models):\n",
        "#   mdl.save('/content/tf_idf/'+str(index)+\"/\")"
      ],
      "execution_count": 0,
      "outputs": []
    },
    {
      "cell_type": "code",
      "metadata": {
        "id": "AaJCQDZQBYOc",
        "colab_type": "code",
        "colab": {}
      },
      "source": [
        "# !zip -r /content/file2.zip /content/tf_idf\n",
        "# from google.colab import files\n",
        "# files.download(\"/content/file2.zip\")"
      ],
      "execution_count": 0,
      "outputs": []
    },
    {
      "cell_type": "code",
      "metadata": {
        "id": "lK5OrGrfgFxl",
        "colab_type": "code",
        "colab": {}
      },
      "source": [
        "##########   Validation Part ##################\n",
        "\n",
        "# preds = []\n",
        "# start = time.time()\n",
        "\n",
        "# for index,model in enumerate(models):\n",
        "#     print(time.time()-start,index)\n",
        "#     pred = model.transform(testSet)\n",
        "#     preds.append(pred.select('prediction').rdd.map(lambda x: x[0]/1.0).collect())\n",
        "# print(preds)\n",
        "# end = time.time()\n",
        "# end-start"
      ],
      "execution_count": 0,
      "outputs": []
    },
    {
      "cell_type": "code",
      "metadata": {
        "id": "cIu9CdG5gFxp",
        "colab_type": "code",
        "colab": {}
      },
      "source": [
        "##########   Validation Part ##################\n",
        "\n",
        "# count = len(preds[0])\n",
        "# final_preds = []\n",
        "# for i in range(count):\n",
        "#     final_preds.append([(p[i])/1.0 for p in preds])"
      ],
      "execution_count": 0,
      "outputs": []
    },
    {
      "cell_type": "code",
      "metadata": {
        "id": "8OtGJdB3gFxv",
        "colab_type": "code",
        "colab": {}
      },
      "source": [
        "##########   Validation Part ##################\n",
        "# original = testSet.select('label').rdd.map(lambda x: [y/1.0 for y in x[0]]).collect()"
      ],
      "execution_count": 0,
      "outputs": []
    },
    {
      "cell_type": "code",
      "metadata": {
        "id": "SP5qoaUNgFxy",
        "colab_type": "code",
        "colab": {}
      },
      "source": [
        "##########   Validation Part ##################\n",
        "\n",
        "# score = []\n",
        "# for i,v in enumerate(original):\n",
        "#     score.append((v,final_preds[i]))\n",
        "# scoreAndLabels = sc.parallelize(score)"
      ],
      "execution_count": 0,
      "outputs": []
    },
    {
      "cell_type": "code",
      "metadata": {
        "id": "HSkYySHhgFx3",
        "colab_type": "code",
        "colab": {}
      },
      "source": [
        "##########   Validation Part ##################\n",
        "\n",
        "# from pyspark.mllib.evaluation import MultilabelMetrics\n",
        "# metrics = MultilabelMetrics(scoreAndLabels)"
      ],
      "execution_count": 0,
      "outputs": []
    },
    {
      "cell_type": "code",
      "metadata": {
        "id": "sUM4tC0fgFx6",
        "colab_type": "code",
        "colab": {}
      },
      "source": [
        "##########   Validation Part ##################\n",
        "\n",
        "# print(\"Recall = %s\" % metrics.recall())\n",
        "# print(\"Precision = %s\" % metrics.precision())\n",
        "# print(\"F1 measure = %s\" % metrics.f1Measure())\n",
        "# print(\"Accuracy = %s\" % metrics.accuracy)\n",
        "\n",
        "# print(\"Micro precision = %s\" % metrics.microPrecision)\n",
        "# print(\"Micro recall = %s\" % metrics.microRecall)\n",
        "# print(\"Micro F1 measure = %s\" % metrics.microF1Measure)"
      ],
      "execution_count": 0,
      "outputs": []
    },
    {
      "cell_type": "code",
      "metadata": {
        "id": "86rhDR9hgFx9",
        "colab_type": "code",
        "colab": {}
      },
      "source": [
        "#---------------------------------------------------------------"
      ],
      "execution_count": 0,
      "outputs": []
    },
    {
      "cell_type": "code",
      "metadata": {
        "id": "5Kc_ssKZgFyB",
        "colab_type": "code",
        "colab": {}
      },
      "source": [
        "testing = sqlContext.read.csv('test.csv',header=True)\n",
        "\n",
        "test_set =model.transform(testing)\n"
      ],
      "execution_count": 0,
      "outputs": []
    },
    {
      "cell_type": "code",
      "metadata": {
        "id": "9fLVJbUtlTJm",
        "colab_type": "code",
        "outputId": "2fbf4e38-80f2-41af-dfba-c6c5d18e2e7f",
        "colab": {
          "base_uri": "https://localhost:8080/",
          "height": 468
        }
      },
      "source": [
        "test_set.show()\n"
      ],
      "execution_count": 0,
      "outputs": [
        {
          "output_type": "stream",
          "text": [
            "+--------+--------------------+--------------------+--------------------+--------------------+--------------------+--------------------+\n",
            "|movie_id|          movie_name|                plot|               token|               clean|         rawFeatures|            features|\n",
            "+--------+--------------------+--------------------+--------------------+--------------------+--------------------+--------------------+\n",
            "| 1335380|              Exodus|\"The film is base...|[the, film, is, b...|[film, based, eve...|(10000,[157,604,8...|(10000,[157,604,8...|\n",
            "|29062594|A la salida nos v...|A group of teenag...|[a, group, of, te...|[group, teenagers...|(10000,[72,213,37...|(10000,[72,213,37...|\n",
            "| 9252321|   Come Back, Africa|This story of a Z...|[this, story, of,...|[story, zulu, fam...|(10000,[69,177,23...|(10000,[69,177,23...|\n",
            "|13455076|       A Merry Mixup|The Stooges play ...|[the, stooges, pl...|[stooges, play, t...|(10000,[324,493,7...|(10000,[324,493,7...|\n",
            "|24165951|        Getting Even|A soldier-of-fort...|[a, soldier, of, ...|[soldier, fortune...|(10000,[158,1549,...|(10000,[158,1549,...|\n",
            "| 1925869|  River of No Return|Set in the Northw...|[set, in, the, no...|[set, northwester...|(10000,[52,76,121...|(10000,[52,76,121...|\n",
            "|10799612|          Amici miei|\"Like in many oth...|[like, in, many, ...|[like, many, moni...|(10000,[36,197,46...|(10000,[36,197,46...|\n",
            "|28238240|Mickey's Big Game...|Mickey and the Sc...|[mickey, and, the...|[mickey, scorpion...|(10000,[87,2726,3...|(10000,[87,2726,3...|\n",
            "|17124781|The Good, the Bad...|\"In the desert wi...|[in, the, desert,...|[desert, wilderne...|(10000,[33,50,81,...|(10000,[33,50,81,...|\n",
            "|28207941|    The Dancing Fool|\"Bimbo and Koko a...|[bimbo, and, koko...|[bimbo, koko, sig...|(10000,[205,371,1...|(10000,[205,371,1...|\n",
            "|19174305|              Tahaan|Tahaan  lives wit...|[tahaan, lives, w...|[tahaan, lives, g...|(10000,[29,158,20...|(10000,[29,158,20...|\n",
            "|18392317|     Mysterious Mose|\"Betty is startle...|[betty, is, start...|[betty, startled,...|(10000,[76,505,61...|(10000,[76,505,61...|\n",
            "|34420857|Kelviyum Naane Pa...|Nirmal ([[Karthik...|[nirmal, karthik,...|[nirmal, karthik,...|(10000,[121,711,7...|(10000,[121,711,7...|\n",
            "| 4039635|   First on the Moon|\"A group of journ...|[a, group, of, jo...|[group, journalis...|(10000,[64,65,69,...|(10000,[64,65,69,...|\n",
            "| 8034072|  Journey of a Woman|\"Vaibhavari Sahay...|[vaibhavari, saha...|[vaibhavari, saha...|(10000,[348,373,4...|(10000,[348,373,4...|\n",
            "| 4016437|     Sophie's Choice|\"In 1947, the mov...|[in, 1947, the, m...|[1947, movie, nar...|(10000,[153,373,4...|(10000,[153,373,4...|\n",
            "| 1520023|  Ninja Resurrection|\"Ninja Resurrecti...|[ninja, resurrect...|[ninja, resurrect...|(10000,[168,662,6...|(10000,[168,662,6...|\n",
            "|24589422|      Maria’s Lovers|In the spring of ...|[in, the, spring,...|[spring, 1946, iv...|(10000,[76,91,147...|(10000,[76,91,147...|\n",
            "|35068740|           Chinnavar|Muthu ([[Prabhu  ...|[muthu, prabhu, a...|[muthu, prabhu, v...|(10000,[452,763,8...|(10000,[452,763,8...|\n",
            "|21132951|              Aparan|Vishwanathan , an...|[vishwanathan, an...|[vishwanathan, in...|(10000,[15,76,93,...|(10000,[15,76,93,...|\n",
            "+--------+--------------------+--------------------+--------------------+--------------------+--------------------+--------------------+\n",
            "only showing top 20 rows\n",
            "\n"
          ],
          "name": "stdout"
        }
      ]
    },
    {
      "cell_type": "code",
      "metadata": {
        "id": "79VtUmcFgFyI",
        "colab_type": "code",
        "colab": {}
      },
      "source": [
        "preds = []\n",
        "#print(models)\n",
        "for model in models:\n",
        "    pred = model.transform(test_set)\n",
        "    preds.append(pred.select(\"prediction\").rdd.map(lambda x: x[0]).collect())\n"
      ],
      "execution_count": 0,
      "outputs": []
    },
    {
      "cell_type": "code",
      "metadata": {
        "id": "H9qIda2bgFyM",
        "colab_type": "code",
        "colab": {}
      },
      "source": [
        "#preds[0] #.select(\"prediction\").show()"
      ],
      "execution_count": 0,
      "outputs": []
    },
    {
      "cell_type": "code",
      "metadata": {
        "id": "_m4lwg_54t9h",
        "colab_type": "code",
        "colab": {}
      },
      "source": [
        "#len(preds[1])\n",
        "#print(test_set.count())"
      ],
      "execution_count": 0,
      "outputs": []
    },
    {
      "cell_type": "code",
      "metadata": {
        "id": "_bTCxC3V1-AK",
        "colab_type": "code",
        "colab": {}
      },
      "source": [
        "\n",
        "s = []\n",
        "for i in range(7777):\n",
        "  s.append(' '.join([str(int(p[i])) for p in preds]))\n",
        "\n",
        "sdf = pd.DataFrame(s)\n",
        "sdf.columns = ['predictions']\n",
        "# sdf.to_csv('result_tfidf.csv',header=True)"
      ],
      "execution_count": 0,
      "outputs": []
    },
    {
      "cell_type": "code",
      "metadata": {
        "id": "3kCIAlCK2A5b",
        "colab_type": "code",
        "colab": {}
      },
      "source": [
        "tmp = test_set.select('movie_id').rdd.map(lambda x: x[0]).collect()"
      ],
      "execution_count": 0,
      "outputs": []
    },
    {
      "cell_type": "code",
      "metadata": {
        "id": "LmLbVFNd2BVj",
        "colab_type": "code",
        "colab": {}
      },
      "source": [
        "mvid = pd.DataFrame(tmp)\n",
        "mvid.columns = ['movie_id']\n",
        "# mvid.to_csv('movie_id.csv',header=True)\n",
        "\n",
        "final_result = mvid.join(sdf, how='outer')\n",
        "final_result.to_csv('result_tfidf.csv',header=True,index=False)"
      ],
      "execution_count": 0,
      "outputs": []
    },
    {
      "cell_type": "code",
      "metadata": {
        "id": "HiPe_K6XgFyx",
        "colab_type": "code",
        "colab": {}
      },
      "source": [
        ""
      ],
      "execution_count": 0,
      "outputs": []
    }
  ]
}